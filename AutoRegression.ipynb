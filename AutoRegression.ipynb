{
 "cells": [
  {
   "cell_type": "code",
   "execution_count": 46,
   "id": "0be66fc1",
   "metadata": {},
   "outputs": [
    {
     "name": "stdout",
     "output_type": "stream",
     "text": [
      "Requirement already satisfied: statsmodels in c:\\anaconda3\\envs\\test2\\lib\\site-packages (0.13.2)\n",
      "Requirement already satisfied: pandas>=0.25 in c:\\anaconda3\\envs\\test2\\lib\\site-packages (from statsmodels) (1.4.1)\n",
      "Requirement already satisfied: numpy>=1.17 in c:\\anaconda3\\envs\\test2\\lib\\site-packages (from statsmodels) (1.19.5)\n",
      "Requirement already satisfied: packaging>=21.3 in c:\\anaconda3\\envs\\test2\\lib\\site-packages (from statsmodels) (21.3)\n",
      "Requirement already satisfied: patsy>=0.5.2 in c:\\anaconda3\\envs\\test2\\lib\\site-packages (from statsmodels) (0.5.2)\n",
      "Requirement already satisfied: scipy>=1.3 in c:\\anaconda3\\envs\\test2\\lib\\site-packages (from statsmodels) (1.5.4)\n",
      "Requirement already satisfied: pyparsing!=3.0.5,>=2.0.2 in c:\\anaconda3\\envs\\test2\\lib\\site-packages (from packaging>=21.3->statsmodels) (3.0.8)\n",
      "Requirement already satisfied: pytz>=2020.1 in c:\\anaconda3\\envs\\test2\\lib\\site-packages (from pandas>=0.25->statsmodels) (2020.4)\n",
      "Requirement already satisfied: python-dateutil>=2.8.1 in c:\\anaconda3\\envs\\test2\\lib\\site-packages (from pandas>=0.25->statsmodels) (2.8.2)\n",
      "Requirement already satisfied: six in c:\\anaconda3\\envs\\test2\\lib\\site-packages (from patsy>=0.5.2->statsmodels) (1.16.0)\n"
     ]
    }
   ],
   "source": [
    "!pip install statsmodels --upgrade"
   ]
  },
  {
   "cell_type": "code",
   "execution_count": 47,
   "id": "11db1a68",
   "metadata": {},
   "outputs": [],
   "source": [
    "import numpy as np\n",
    "import pandas as pd\n",
    "import statsmodels.api as sm\n",
    "from statsmodels.tsa.ar_model import AutoReg"
   ]
  },
  {
   "cell_type": "code",
   "execution_count": 48,
   "id": "428fd523",
   "metadata": {},
   "outputs": [],
   "source": [
    "import matplotlib.pyplot as plt\n",
    "%matplotlib inline"
   ]
  },
  {
   "cell_type": "code",
   "execution_count": 49,
   "id": "e1456a46",
   "metadata": {},
   "outputs": [],
   "source": [
    "df = pd.read_csv('C:\\\\Users\\\\HP\\\\Desktop\\\\project1\\\\sampledatamonthly1.csv')"
   ]
  },
  {
   "cell_type": "code",
   "execution_count": 50,
   "id": "f35692f2",
   "metadata": {},
   "outputs": [],
   "source": [
    "df.columns = ['Date', 'Actuals']"
   ]
  },
  {
   "cell_type": "code",
   "execution_count": 51,
   "id": "f3006c52",
   "metadata": {},
   "outputs": [
    {
     "data": {
      "text/html": [
       "<div>\n",
       "<style scoped>\n",
       "    .dataframe tbody tr th:only-of-type {\n",
       "        vertical-align: middle;\n",
       "    }\n",
       "\n",
       "    .dataframe tbody tr th {\n",
       "        vertical-align: top;\n",
       "    }\n",
       "\n",
       "    .dataframe thead th {\n",
       "        text-align: right;\n",
       "    }\n",
       "</style>\n",
       "<table border=\"1\" class=\"dataframe\">\n",
       "  <thead>\n",
       "    <tr style=\"text-align: right;\">\n",
       "      <th></th>\n",
       "      <th>Date</th>\n",
       "      <th>Actuals</th>\n",
       "    </tr>\n",
       "  </thead>\n",
       "  <tbody>\n",
       "    <tr>\n",
       "      <th>0</th>\n",
       "      <td>01-07-2018</td>\n",
       "      <td>123739.76</td>\n",
       "    </tr>\n",
       "    <tr>\n",
       "      <th>1</th>\n",
       "      <td>01-08-2018</td>\n",
       "      <td>119569.00</td>\n",
       "    </tr>\n",
       "    <tr>\n",
       "      <th>2</th>\n",
       "      <td>01-09-2018</td>\n",
       "      <td>110460.71</td>\n",
       "    </tr>\n",
       "    <tr>\n",
       "      <th>3</th>\n",
       "      <td>01-10-2018</td>\n",
       "      <td>135560.57</td>\n",
       "    </tr>\n",
       "    <tr>\n",
       "      <th>4</th>\n",
       "      <td>01-11-2018</td>\n",
       "      <td>120747.70</td>\n",
       "    </tr>\n",
       "    <tr>\n",
       "      <th>5</th>\n",
       "      <td>01-12-2018</td>\n",
       "      <td>125897.00</td>\n",
       "    </tr>\n",
       "    <tr>\n",
       "      <th>6</th>\n",
       "      <td>01-01-2019</td>\n",
       "      <td>108474.45</td>\n",
       "    </tr>\n",
       "    <tr>\n",
       "      <th>7</th>\n",
       "      <td>01-02-2019</td>\n",
       "      <td>96280.60</td>\n",
       "    </tr>\n",
       "    <tr>\n",
       "      <th>8</th>\n",
       "      <td>01-03-2019</td>\n",
       "      <td>119753.10</td>\n",
       "    </tr>\n",
       "    <tr>\n",
       "      <th>9</th>\n",
       "      <td>01-04-2019</td>\n",
       "      <td>117437.55</td>\n",
       "    </tr>\n",
       "  </tbody>\n",
       "</table>\n",
       "</div>"
      ],
      "text/plain": [
       "         Date    Actuals\n",
       "0  01-07-2018  123739.76\n",
       "1  01-08-2018  119569.00\n",
       "2  01-09-2018  110460.71\n",
       "3  01-10-2018  135560.57\n",
       "4  01-11-2018  120747.70\n",
       "5  01-12-2018  125897.00\n",
       "6  01-01-2019  108474.45\n",
       "7  01-02-2019   96280.60\n",
       "8  01-03-2019  119753.10\n",
       "9  01-04-2019  117437.55"
      ]
     },
     "execution_count": 51,
     "metadata": {},
     "output_type": "execute_result"
    }
   ],
   "source": [
    "df.head(10)"
   ]
  },
  {
   "cell_type": "code",
   "execution_count": 52,
   "id": "b3dbf6d8",
   "metadata": {},
   "outputs": [],
   "source": [
    "df.set_index('Date', inplace=True)"
   ]
  },
  {
   "cell_type": "code",
   "execution_count": 53,
   "id": "bee0c10b",
   "metadata": {},
   "outputs": [
    {
     "data": {
      "text/plain": [
       "Index(['01-07-2018', '01-08-2018', '01-09-2018', '01-10-2018', '01-11-2018',\n",
       "       '01-12-2018', '01-01-2019', '01-02-2019', '01-03-2019', '01-04-2019',\n",
       "       '01-05-2019', '01-06-2019', '01-07-2019', '01-08-2019', '01-09-2019',\n",
       "       '01-10-2019', '01-11-2019', '01-12-2019', '01-01-2020', '01-02-2020',\n",
       "       '01-03-2020', '01-04-2020', '01-05-2020', '01-06-2020', '01-07-2020',\n",
       "       '01-08-2020', '01-09-2020', '01-10-2020', '01-11-2020', '01-12-2020',\n",
       "       '01-01-2021', '01-02-2021', '01-03-2021', '01-04-2021', '01-05-2021',\n",
       "       '01-06-2021', '01-07-2021', '01-08-2021', '01-09-2021', '01-10-2021',\n",
       "       '01-11-2021', '01-12-2021', '01-01-2022', '01-02-2022', '01-03-2022',\n",
       "       '01-04-2022', '01-05-2022', '01-06-2022'],\n",
       "      dtype='object', name='Date')"
      ]
     },
     "execution_count": 53,
     "metadata": {},
     "output_type": "execute_result"
    }
   ],
   "source": [
    "df.index"
   ]
  },
  {
   "cell_type": "code",
   "execution_count": 54,
   "id": "a93bd064",
   "metadata": {},
   "outputs": [
    {
     "data": {
      "text/html": [
       "<div>\n",
       "<style scoped>\n",
       "    .dataframe tbody tr th:only-of-type {\n",
       "        vertical-align: middle;\n",
       "    }\n",
       "\n",
       "    .dataframe tbody tr th {\n",
       "        vertical-align: top;\n",
       "    }\n",
       "\n",
       "    .dataframe thead th {\n",
       "        text-align: right;\n",
       "    }\n",
       "</style>\n",
       "<table border=\"1\" class=\"dataframe\">\n",
       "  <thead>\n",
       "    <tr style=\"text-align: right;\">\n",
       "      <th></th>\n",
       "      <th>count</th>\n",
       "      <th>mean</th>\n",
       "      <th>std</th>\n",
       "      <th>min</th>\n",
       "      <th>25%</th>\n",
       "      <th>50%</th>\n",
       "      <th>75%</th>\n",
       "      <th>max</th>\n",
       "    </tr>\n",
       "  </thead>\n",
       "  <tbody>\n",
       "    <tr>\n",
       "      <th>Actuals</th>\n",
       "      <td>48.0</td>\n",
       "      <td>202257.384375</td>\n",
       "      <td>135257.440084</td>\n",
       "      <td>52049.47</td>\n",
       "      <td>110255.615</td>\n",
       "      <td>125017.45</td>\n",
       "      <td>264221.2125</td>\n",
       "      <td>713391.82</td>\n",
       "    </tr>\n",
       "  </tbody>\n",
       "</table>\n",
       "</div>"
      ],
      "text/plain": [
       "         count           mean            std       min         25%        50%  \\\n",
       "Actuals   48.0  202257.384375  135257.440084  52049.47  110255.615  125017.45   \n",
       "\n",
       "                 75%        max  \n",
       "Actuals  264221.2125  713391.82  "
      ]
     },
     "execution_count": 54,
     "metadata": {},
     "output_type": "execute_result"
    }
   ],
   "source": [
    "df.describe().transpose()"
   ]
  },
  {
   "cell_type": "code",
   "execution_count": 55,
   "id": "9eee4908",
   "metadata": {},
   "outputs": [
    {
     "data": {
      "text/plain": [
       "<AxesSubplot:xlabel='Date'>"
      ]
     },
     "execution_count": 55,
     "metadata": {},
     "output_type": "execute_result"
    },
    {
     "data": {
      "image/png": "[encoded data removed]",
      "text/plain": [
       "<Figure size 432x288 with 1 Axes>"
      ]
     },
     "metadata": {
      "needs_background": "light"
     },
     "output_type": "display_data"
    }
   ],
   "source": [
    "df.plot()"
   ]
  },
  {
   "cell_type": "code",
   "execution_count": 41,
   "id": "a5a72b88",
   "metadata": {},
   "outputs": [],
   "source": [
    "#Check for Stationarity\n",
    "from statsmodels.tsa.stattools import adfuller"
   ]
  },
  {
   "cell_type": "code",
   "execution_count": 56,
   "id": "1d00ff3e",
   "metadata": {},
   "outputs": [],
   "source": [
    "#define a statistic function\n",
    "def ad_test(dataset):\n",
    "     datasettest = adfuller(df, autolag = 'AIC')\n",
    "     print(\"1. ADF : \",datasettest[0])\n",
    "     print(\"2. P-Value : \", datasettest[1])\n",
    "     print(\"3. Num Of Lags : \", datasettest[2])\n",
    "     print(\"4. Num Of Observations Used For ADF Regression:\",      datasettest[3])\n",
    "     print(\"5. Critical Values :\")\n",
    "     for key, val in datasettest[4].items():\n",
    "         print(\"\\t\",key, \": \", val)"
   ]
  },
  {
   "cell_type": "code",
   "execution_count": 57,
   "id": "b5549a69",
   "metadata": {},
   "outputs": [
    {
     "name": "stdout",
     "output_type": "stream",
     "text": [
      "1. ADF :  -1.8465493359205636\n",
      "2. P-Value :  0.35760818387285986\n",
      "3. Num Of Lags :  0\n",
      "4. Num Of Observations Used For ADF Regression: 47\n",
      "5. Critical Values :\n",
      "\t 1% :  -3.5778480370438146\n",
      "\t 5% :  -2.925338105429433\n",
      "\t 10% :  -2.6007735310095064\n"
     ]
    }
   ],
   "source": [
    "#compute Value\n",
    "ad_test(df['Actuals'])"
   ]
  },
  {
   "cell_type": "code",
   "execution_count": null,
   "id": "f5ed0b4b",
   "metadata": {},
   "outputs": [],
   "source": [
    "As the p Value is less than 0.5 data is stationery"
   ]
  },
  {
   "cell_type": "code",
   "execution_count": 63,
   "id": "c94a8442",
   "metadata": {},
   "outputs": [
    {
     "data": {
      "image/png": "[encoded data removed]",
      "text/plain": [
       "<Figure size 432x288 with 1 Axes>"
      ]
     },
     "metadata": {
      "needs_background": "light"
     },
     "output_type": "display_data"
    },
    {
     "data": {
      "image/png": "[encoded data removed]",
      "text/plain": [
       "<Figure size 432x288 with 1 Axes>"
      ]
     },
     "metadata": {
      "needs_background": "light"
     },
     "output_type": "display_data"
    }
   ],
   "source": [
    "from statsmodels.graphics.tsaplots import plot_acf, plot_acf\n",
    "\n",
    "pacf = plot_acf(df['Actuals'], lags=25)\n",
    "acf = plot_acf(df['Actuals'], lags=25)"
   ]
  },
  {
   "cell_type": "code",
   "execution_count": 59,
   "id": "9e1d0593",
   "metadata": {},
   "outputs": [],
   "source": [
    "# split Data\n",
    "x = df\n",
    "train = x[:len(x)-9]\n",
    "test = x[len(x)-9:]"
   ]
  },
  {
   "cell_type": "code",
   "execution_count": 60,
   "id": "007ca053",
   "metadata": {},
   "outputs": [
    {
     "name": "stderr",
     "output_type": "stream",
     "text": [
      "C:\\anaconda3\\envs\\test2\\lib\\site-packages\\statsmodels\\tsa\\base\\tsa_model.py:471: ValueWarning: A date index has been provided, but it has no associated frequency information and so will be ignored when e.g. forecasting.\n",
      "  self._init_dates(dates, freq)\n"
     ]
    }
   ],
   "source": [
    "model = AutoReg(train, lags=10).fit()"
   ]
  },
  {
   "cell_type": "code",
   "execution_count": 65,
   "id": "d2f414eb",
   "metadata": {},
   "outputs": [
    {
     "name": "stdout",
     "output_type": "stream",
     "text": [
      "                            AutoReg Model Results                             \n",
      "==============================================================================\n",
      "Dep. Variable:                Actuals   No. Observations:                   39\n",
      "Model:                    AutoReg(10)   Log Likelihood                -346.131\n",
      "Method:               Conditional MLE   S.D. of innovations          36924.219\n",
      "Date:                Fri, 22 Jul 2022   AIC                            716.263\n",
      "Time:                        14:31:45   BIC                            732.670\n",
      "Sample:                            10   HQIC                           721.401\n",
      "                                   39                                         \n",
      "===============================================================================\n",
      "                  coef    std err          z      P>|z|      [0.025      0.975]\n",
      "-------------------------------------------------------------------------------\n",
      "const       -7504.7815   5.47e+04     -0.137      0.891   -1.15e+05    9.97e+04\n",
      "Actuals.L1      0.6323      0.189      3.345      0.001       0.262       1.003\n",
      "Actuals.L2      0.2008      0.215      0.933      0.351      -0.221       0.623\n",
      "Actuals.L3      0.3466      0.227      1.527      0.127      -0.098       0.792\n",
      "Actuals.L4     -0.0819      0.239     -0.343      0.732      -0.550       0.386\n",
      "Actuals.L5      0.0976      0.228      0.428      0.668      -0.349       0.544\n",
      "Actuals.L6     -0.2576      0.220     -1.169      0.243      -0.690       0.174\n",
      "Actuals.L7     -0.2194      0.227     -0.966      0.334      -0.664       0.226\n",
      "Actuals.L8     -0.1813      0.225     -0.804      0.421      -0.623       0.260\n",
      "Actuals.L9      0.5806      0.312      1.862      0.063      -0.031       1.192\n",
      "Actuals.L10     0.0311      0.636      0.049      0.961      -1.216       1.279\n",
      "                                    Roots                                     \n",
      "==============================================================================\n",
      "                   Real          Imaginary           Modulus         Frequency\n",
      "------------------------------------------------------------------------------\n",
      "AR.1             0.9459           -0.0000j            0.9459           -0.0000\n",
      "AR.2             0.9613           -0.4469j            1.0601           -0.0693\n",
      "AR.3             0.9613           +0.4469j            1.0601            0.0693\n",
      "AR.4             0.2475           -1.0211j            1.0507           -0.2121\n",
      "AR.5             0.2475           +1.0211j            1.0507            0.2121\n",
      "AR.6            -0.5224           -0.9433j            1.0783           -0.3305\n",
      "AR.7            -0.5224           +0.9433j            1.0783            0.3305\n",
      "AR.8            -1.0148           -0.4617j            1.1149           -0.4320\n",
      "AR.9            -1.0148           +0.4617j            1.1149            0.4320\n",
      "AR.10          -18.9816           -0.0000j           18.9816           -0.5000\n",
      "------------------------------------------------------------------------------\n"
     ]
    }
   ],
   "source": [
    "print(model.summary())"
   ]
  },
  {
   "cell_type": "code",
   "execution_count": 66,
   "id": "6e2d3cb7",
   "metadata": {},
   "outputs": [
    {
     "name": "stdout",
     "output_type": "stream",
     "text": [
      "39\n"
     ]
    }
   ],
   "source": [
    "print(len(train))"
   ]
  },
  {
   "cell_type": "code",
   "execution_count": 68,
   "id": "f676dee9",
   "metadata": {},
   "outputs": [
    {
     "name": "stderr",
     "output_type": "stream",
     "text": [
      "C:\\anaconda3\\envs\\test2\\lib\\site-packages\\statsmodels\\tsa\\base\\tsa_model.py:834: ValueWarning: No supported index is available. Prediction results will be given with an integer index beginning at `start`.\n",
      "  return get_prediction_index(\n",
      "C:\\anaconda3\\envs\\test2\\lib\\site-packages\\statsmodels\\tsa\\deterministic.py:302: UserWarning: Only PeriodIndexes, DatetimeIndexes with a frequency set, RangesIndexes, and Index with a unit increment support extending. The index is set will contain the position relative to the data length.\n",
      "  fcast_index = self._extend_index(index, steps, forecast_index)\n"
     ]
    }
   ],
   "source": [
    "pred = model.predict(start=len(train), end=len(x)-1, dynamic=False)"
   ]
  },
  {
   "cell_type": "code",
   "execution_count": 70,
   "id": "f0fbfacf",
   "metadata": {},
   "outputs": [
    {
     "name": "stdout",
     "output_type": "stream",
     "text": [
      "39    290337.271086\n",
      "40    298039.373857\n",
      "41    366071.126968\n",
      "42    377137.031789\n",
      "43    412182.633362\n",
      "44    437140.335968\n",
      "45    442378.571557\n",
      "46    462970.539955\n",
      "47    506722.574703\n",
      "dtype: float64\n"
     ]
    },
    {
     "data": {
      "image/png": "[encoded data removed]",
      "text/plain": [
       "<Figure size 432x288 with 1 Axes>"
      ]
     },
     "metadata": {
      "needs_background": "light"
     },
     "output_type": "display_data"
    }
   ],
   "source": [
    "plt.plot(pred)\n",
    "plt.plot(test, color = 'red')\n",
    "print(pred)"
   ]
  },
  {
   "cell_type": "code",
   "execution_count": 71,
   "id": "b185e579",
   "metadata": {},
   "outputs": [],
   "source": [
    "#Calculate Error\n",
    "\n",
    "from math import sqrt\n",
    "from sklearn.metrics import mean_squared_error\n",
    "rmse = sqrt(mean_squared_error(test, pred))"
   ]
  },
  {
   "cell_type": "code",
   "execution_count": 72,
   "id": "80b88513",
   "metadata": {},
   "outputs": [
    {
     "name": "stdout",
     "output_type": "stream",
     "text": [
      "180223.77824163515\n"
     ]
    }
   ],
   "source": [
    "print(rmse)"
   ]
  },
  {
   "cell_type": "code",
   "execution_count": 74,
   "id": "78c20162",
   "metadata": {},
   "outputs": [
    {
     "name": "stdout",
     "output_type": "stream",
     "text": [
      "Future Prediction\n",
      "49    510782.757000\n",
      "50    549319.739707\n",
      "51    568845.104696\n",
      "52    602695.551026\n",
      "53    640570.383428\n",
      "54    664463.057166\n",
      "55    704357.674252\n",
      "dtype: float64\n",
      "number of predictions made:\t 7\n"
     ]
    },
    {
     "name": "stderr",
     "output_type": "stream",
     "text": [
      "C:\\anaconda3\\envs\\test2\\lib\\site-packages\\statsmodels\\tsa\\base\\tsa_model.py:834: ValueWarning: No supported index is available. Prediction results will be given with an integer index beginning at `start`.\n",
      "  return get_prediction_index(\n",
      "C:\\anaconda3\\envs\\test2\\lib\\site-packages\\statsmodels\\tsa\\deterministic.py:302: UserWarning: Only PeriodIndexes, DatetimeIndexes with a frequency set, RangesIndexes, and Index with a unit increment support extending. The index is set will contain the position relative to the data length.\n",
      "  fcast_index = self._extend_index(index, steps, forecast_index)\n"
     ]
    }
   ],
   "source": [
    "#making future predictions\n",
    "pred_future=model.predict(start=len(x)+1, end=len(x)+7, dynamic=False)\n",
    "print(\"Future Prediction\")\n",
    "print(pred_future)\n",
    "print('number of predictions made:\\t', len(pred_future))"
   ]
  }
 ],
 "metadata": {
  "kernelspec": {
   "display_name": "Python 3 (ipykernel)",
   "language": "python",
   "name": "python3"
  },
  "language_info": {
   "codemirror_mode": {
    "name": "ipython",
    "version": 3
   },
   "file_extension": ".py",
   "mimetype": "text/x-python",
   "name": "python",
   "nbconvert_exporter": "python",
   "pygments_lexer": "ipython3",
   "version": "3.8.13"
  }
 },
 "nbformat": 4,
 "nbformat_minor": 5
}
