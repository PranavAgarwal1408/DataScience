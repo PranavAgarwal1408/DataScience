{
 "cells": [
  {
   "cell_type": "code",
   "execution_count": 23,
   "id": "a6d34ba5",
   "metadata": {},
   "outputs": [
    {
     "name": "stdout",
     "output_type": "stream",
     "text": [
      "Requirement already satisfied: pmdarima in c:\\anaconda3\\envs\\test2\\lib\\site-packages (1.8.5)\n",
      "Requirement already satisfied: statsmodels!=0.12.0,>=0.11 in c:\\anaconda3\\envs\\test2\\lib\\site-packages (from pmdarima) (0.13.2)\n",
      "Requirement already satisfied: scikit-learn>=0.22 in c:\\anaconda3\\envs\\test2\\lib\\site-packages (from pmdarima) (0.23.2)\n",
      "Requirement already satisfied: scipy>=1.3.2 in c:\\anaconda3\\envs\\test2\\lib\\site-packages (from pmdarima) (1.5.4)\n",
      "Requirement already satisfied: numpy>=1.19.3 in c:\\anaconda3\\envs\\test2\\lib\\site-packages (from pmdarima) (1.19.5)\n",
      "Requirement already satisfied: urllib3 in c:\\anaconda3\\envs\\test2\\lib\\site-packages (from pmdarima) (1.24.2)\n",
      "Requirement already satisfied: pandas>=0.19 in c:\\anaconda3\\envs\\test2\\lib\\site-packages (from pmdarima) (1.4.1)\n",
      "Requirement already satisfied: setuptools!=50.0.0,>=38.6.0 in c:\\anaconda3\\envs\\test2\\lib\\site-packages (from pmdarima) (61.2.0)\n",
      "Requirement already satisfied: joblib>=0.11 in c:\\anaconda3\\envs\\test2\\lib\\site-packages (from pmdarima) (1.1.0)\n",
      "Requirement already satisfied: Cython!=0.29.18,>=0.29 in c:\\anaconda3\\envs\\test2\\lib\\site-packages (from pmdarima) (0.29.14)\n",
      "Requirement already satisfied: python-dateutil>=2.8.1 in c:\\anaconda3\\envs\\test2\\lib\\site-packages (from pandas>=0.19->pmdarima) (2.8.2)\n",
      "Requirement already satisfied: pytz>=2020.1 in c:\\anaconda3\\envs\\test2\\lib\\site-packages (from pandas>=0.19->pmdarima) (2022.1)\n",
      "Requirement already satisfied: six>=1.5 in c:\\anaconda3\\envs\\test2\\lib\\site-packages (from python-dateutil>=2.8.1->pandas>=0.19->pmdarima) (1.12.0)\n",
      "Requirement already satisfied: threadpoolctl>=2.0.0 in c:\\anaconda3\\envs\\test2\\lib\\site-packages (from scikit-learn>=0.22->pmdarima) (3.1.0)\n",
      "Requirement already satisfied: packaging>=21.3 in c:\\anaconda3\\envs\\test2\\lib\\site-packages (from statsmodels!=0.12.0,>=0.11->pmdarima) (21.3)\n",
      "Requirement already satisfied: patsy>=0.5.2 in c:\\anaconda3\\envs\\test2\\lib\\site-packages (from statsmodels!=0.12.0,>=0.11->pmdarima) (0.5.2)\n",
      "Requirement already satisfied: pyparsing!=3.0.5,>=2.0.2 in c:\\anaconda3\\envs\\test2\\lib\\site-packages (from packaging>=21.3->statsmodels!=0.12.0,>=0.11->pmdarima) (3.0.8)\n"
     ]
    }
   ],
   "source": [
    "!pip install pmdarima"
   ]
  },
  {
   "cell_type": "code",
   "execution_count": 24,
   "id": "f138c8e1",
   "metadata": {},
   "outputs": [],
   "source": [
    "import pandas as pd\n",
    "import numpy as np"
   ]
  },
  {
   "cell_type": "code",
   "execution_count": 25,
   "id": "6ae45f0d",
   "metadata": {},
   "outputs": [
    {
     "name": "stdout",
     "output_type": "stream",
     "text": [
      "Shape of Data (48, 2)\n"
     ]
    },
    {
     "data": {
      "text/html": [
       "<div>\n",
       "<style scoped>\n",
       "    .dataframe tbody tr th:only-of-type {\n",
       "        vertical-align: middle;\n",
       "    }\n",
       "\n",
       "    .dataframe tbody tr th {\n",
       "        vertical-align: top;\n",
       "    }\n",
       "\n",
       "    .dataframe thead th {\n",
       "        text-align: right;\n",
       "    }\n",
       "</style>\n",
       "<table border=\"1\" class=\"dataframe\">\n",
       "  <thead>\n",
       "    <tr style=\"text-align: right;\">\n",
       "      <th></th>\n",
       "      <th>Date</th>\n",
       "      <th>Actuals</th>\n",
       "    </tr>\n",
       "  </thead>\n",
       "  <tbody>\n",
       "    <tr>\n",
       "      <th>0</th>\n",
       "      <td>01-07-2018</td>\n",
       "      <td>123739.76</td>\n",
       "    </tr>\n",
       "    <tr>\n",
       "      <th>1</th>\n",
       "      <td>01-08-2018</td>\n",
       "      <td>119569.00</td>\n",
       "    </tr>\n",
       "    <tr>\n",
       "      <th>2</th>\n",
       "      <td>01-09-2018</td>\n",
       "      <td>110460.71</td>\n",
       "    </tr>\n",
       "    <tr>\n",
       "      <th>3</th>\n",
       "      <td>01-10-2018</td>\n",
       "      <td>135560.57</td>\n",
       "    </tr>\n",
       "    <tr>\n",
       "      <th>4</th>\n",
       "      <td>01-11-2018</td>\n",
       "      <td>120747.70</td>\n",
       "    </tr>\n",
       "  </tbody>\n",
       "</table>\n",
       "</div>"
      ],
      "text/plain": [
       "         Date    Actuals\n",
       "0  01-07-2018  123739.76\n",
       "1  01-08-2018  119569.00\n",
       "2  01-09-2018  110460.71\n",
       "3  01-10-2018  135560.57\n",
       "4  01-11-2018  120747.70"
      ]
     },
     "execution_count": 25,
     "metadata": {},
     "output_type": "execute_result"
    }
   ],
   "source": [
    "df = pd.read_csv('C:\\\\Users\\\\HP\\\\Desktop\\\\project1\\\\sampledatamonthly1.csv')\n",
    "df = df.dropna()\n",
    "print('Shape of Data', df.shape)\n",
    "df.head()"
   ]
  },
  {
   "cell_type": "code",
   "execution_count": 26,
   "id": "90243212",
   "metadata": {},
   "outputs": [
    {
     "data": {
      "text/plain": [
       "<AxesSubplot:>"
      ]
     },
     "execution_count": 26,
     "metadata": {},
     "output_type": "execute_result"
    },
    {
     "data": {
      "image/png": "[encoded data removed]",
      "text/plain": [
       "<Figure size 432x288 with 1 Axes>"
      ]
     },
     "metadata": {
      "needs_background": "light"
     },
     "output_type": "display_data"
    }
   ],
   "source": [
    "df.plot()"
   ]
  },
  {
   "cell_type": "code",
   "execution_count": 27,
   "id": "d72e8ba3",
   "metadata": {},
   "outputs": [],
   "source": [
    "df.set_index('Date', inplace=True)"
   ]
  },
  {
   "cell_type": "code",
   "execution_count": 28,
   "id": "a513c2d1",
   "metadata": {},
   "outputs": [
    {
     "data": {
      "text/plain": [
       "Index(['01-07-2018', '01-08-2018', '01-09-2018', '01-10-2018', '01-11-2018',\n",
       "       '01-12-2018', '01-01-2019', '01-02-2019', '01-03-2019', '01-04-2019',\n",
       "       '01-05-2019', '01-06-2019', '01-07-2019', '01-08-2019', '01-09-2019',\n",
       "       '01-10-2019', '01-11-2019', '01-12-2019', '01-01-2020', '01-02-2020',\n",
       "       '01-03-2020', '01-04-2020', '01-05-2020', '01-06-2020', '01-07-2020',\n",
       "       '01-08-2020', '01-09-2020', '01-10-2020', '01-11-2020', '01-12-2020',\n",
       "       '01-01-2021', '01-02-2021', '01-03-2021', '01-04-2021', '01-05-2021',\n",
       "       '01-06-2021', '01-07-2021', '01-08-2021', '01-09-2021', '01-10-2021',\n",
       "       '01-11-2021', '01-12-2021', '01-01-2022', '01-02-2022', '01-03-2022',\n",
       "       '01-04-2022', '01-05-2022', '01-06-2022'],\n",
       "      dtype='object', name='Date')"
      ]
     },
     "execution_count": 28,
     "metadata": {},
     "output_type": "execute_result"
    }
   ],
   "source": [
    "df.index"
   ]
  },
  {
   "cell_type": "code",
   "execution_count": 29,
   "id": "f8c8f6fa",
   "metadata": {},
   "outputs": [
    {
     "data": {
      "text/html": [
       "<div>\n",
       "<style scoped>\n",
       "    .dataframe tbody tr th:only-of-type {\n",
       "        vertical-align: middle;\n",
       "    }\n",
       "\n",
       "    .dataframe tbody tr th {\n",
       "        vertical-align: top;\n",
       "    }\n",
       "\n",
       "    .dataframe thead th {\n",
       "        text-align: right;\n",
       "    }\n",
       "</style>\n",
       "<table border=\"1\" class=\"dataframe\">\n",
       "  <thead>\n",
       "    <tr style=\"text-align: right;\">\n",
       "      <th></th>\n",
       "      <th>count</th>\n",
       "      <th>mean</th>\n",
       "      <th>std</th>\n",
       "      <th>min</th>\n",
       "      <th>25%</th>\n",
       "      <th>50%</th>\n",
       "      <th>75%</th>\n",
       "      <th>max</th>\n",
       "    </tr>\n",
       "  </thead>\n",
       "  <tbody>\n",
       "    <tr>\n",
       "      <th>Actuals</th>\n",
       "      <td>48.0</td>\n",
       "      <td>202257.384375</td>\n",
       "      <td>135257.440084</td>\n",
       "      <td>52049.47</td>\n",
       "      <td>110255.615</td>\n",
       "      <td>125017.45</td>\n",
       "      <td>264221.2125</td>\n",
       "      <td>713391.82</td>\n",
       "    </tr>\n",
       "  </tbody>\n",
       "</table>\n",
       "</div>"
      ],
      "text/plain": [
       "         count           mean            std       min         25%        50%  \\\n",
       "Actuals   48.0  202257.384375  135257.440084  52049.47  110255.615  125017.45   \n",
       "\n",
       "                 75%        max  \n",
       "Actuals  264221.2125  713391.82  "
      ]
     },
     "execution_count": 29,
     "metadata": {},
     "output_type": "execute_result"
    }
   ],
   "source": [
    "df.describe().transpose()"
   ]
  },
  {
   "cell_type": "code",
   "execution_count": 30,
   "id": "3a7b26c2",
   "metadata": {},
   "outputs": [
    {
     "data": {
      "text/plain": [
       "<AxesSubplot:xlabel='Date'>"
      ]
     },
     "execution_count": 30,
     "metadata": {},
     "output_type": "execute_result"
    },
    {
     "data": {
      "image/png": "[encoded data removed]",
      "text/plain": [
       "<Figure size 432x288 with 1 Axes>"
      ]
     },
     "metadata": {
      "needs_background": "light"
     },
     "output_type": "display_data"
    }
   ],
   "source": [
    "df.plot()"
   ]
  },
  {
   "cell_type": "code",
   "execution_count": 31,
   "id": "06410019",
   "metadata": {},
   "outputs": [],
   "source": [
    "from statsmodels.tsa.stattools import adfuller"
   ]
  },
  {
   "cell_type": "code",
   "execution_count": 32,
   "id": "5906fa62",
   "metadata": {},
   "outputs": [],
   "source": [
    "def ad_test(dataset):\n",
    "    dftest = adfuller(dataset, autolag = 'AIC')\n",
    "    print(\"1. ADF :\",dftest[0])\n",
    "    print(\"2. P-Value :\",dftest[1])\n",
    "    print(\"3. Num of Lags :\",dftest[2])\n",
    "    print(\"4. Num of observation used for ADF Regression and critical Values Calculation :\",dftest[3])\n",
    "    print(\"5. Critical Values :\")\n",
    "    for key, val in dftest[4].items():\n",
    "        print(\"\\t\",key,\":\", val)"
   ]
  },
  {
   "cell_type": "code",
   "execution_count": 33,
   "id": "44502dff",
   "metadata": {},
   "outputs": [
    {
     "name": "stdout",
     "output_type": "stream",
     "text": [
      "1. ADF : -1.8465493359205636\n",
      "2. P-Value : 0.35760818387285986\n",
      "3. Num of Lags : 0\n",
      "4. Num of observation used for ADF Regression and critical Values Calculation : 47\n",
      "5. Critical Values :\n",
      "\t 1% : -3.5778480370438146\n",
      "\t 5% : -2.925338105429433\n",
      "\t 10% : -2.6007735310095064\n"
     ]
    }
   ],
   "source": [
    "ad_test(df['Actuals'])"
   ]
  },
  {
   "cell_type": "code",
   "execution_count": 35,
   "id": "2d7adbaf",
   "metadata": {},
   "outputs": [],
   "source": [
    "# split Data\n",
    "x = df\n",
    "train = x[:len(x)-9]\n",
    "test = x[len(x)-9:]\n"
   ]
  },
  {
   "cell_type": "code",
   "execution_count": 39,
   "id": "1391a141",
   "metadata": {},
   "outputs": [],
   "source": [
    "from pmdarima import auto_arima\n",
    "# ignore harmless warning\n",
    "import warnings\n",
    "warnings.filterwarnings(\"ignore\")"
   ]
  },
  {
   "cell_type": "code",
   "execution_count": 41,
   "id": "54ca0e06",
   "metadata": {},
   "outputs": [
    {
     "name": "stdout",
     "output_type": "stream",
     "text": [
      "Performing stepwise search to minimize aic\n",
      " ARIMA(2,1,2)(0,0,0)[0] intercept   : AIC=922.613, Time=0.22 sec\n",
      " ARIMA(0,1,0)(0,0,0)[0] intercept   : AIC=918.292, Time=0.01 sec\n",
      " ARIMA(1,1,0)(0,0,0)[0] intercept   : AIC=918.318, Time=0.03 sec\n",
      " ARIMA(0,1,1)(0,0,0)[0] intercept   : AIC=917.711, Time=0.03 sec\n",
      " ARIMA(0,1,0)(0,0,0)[0]             : AIC=916.882, Time=0.01 sec\n",
      " ARIMA(1,1,1)(0,0,0)[0] intercept   : AIC=919.729, Time=0.05 sec\n",
      "\n",
      "Best model:  ARIMA(0,1,0)(0,0,0)[0]          \n",
      "Total fit time: 0.352 seconds\n"
     ]
    },
    {
     "data": {
      "text/html": [
       "<table class=\"simpletable\">\n",
       "<caption>SARIMAX Results</caption>\n",
       "<tr>\n",
       "  <th>Dep. Variable:</th>           <td>y</td>        <th>  No. Observations:  </th>    <td>39</td>   \n",
       "</tr>\n",
       "<tr>\n",
       "  <th>Model:</th>           <td>SARIMAX(0, 1, 0)</td> <th>  Log Likelihood     </th> <td>-457.441</td>\n",
       "</tr>\n",
       "<tr>\n",
       "  <th>Date:</th>            <td>Sat, 23 Jul 2022</td> <th>  AIC                </th>  <td>916.882</td>\n",
       "</tr>\n",
       "<tr>\n",
       "  <th>Time:</th>                <td>16:22:48</td>     <th>  BIC                </th>  <td>918.520</td>\n",
       "</tr>\n",
       "<tr>\n",
       "  <th>Sample:</th>                  <td>0</td>        <th>  HQIC               </th>  <td>917.465</td>\n",
       "</tr>\n",
       "<tr>\n",
       "  <th></th>                       <td> - 39</td>      <th>                     </th>     <td> </td>   \n",
       "</tr>\n",
       "<tr>\n",
       "  <th>Covariance Type:</th>        <td>opg</td>       <th>                     </th>     <td> </td>   \n",
       "</tr>\n",
       "</table>\n",
       "<table class=\"simpletable\">\n",
       "<tr>\n",
       "     <td></td>       <th>coef</th>     <th>std err</th>      <th>z</th>      <th>P>|z|</th>  <th>[0.025</th>    <th>0.975]</th>  \n",
       "</tr>\n",
       "<tr>\n",
       "  <th>sigma2</th> <td>  1.63e+09</td> <td> 2.12e+08</td> <td>    7.674</td> <td> 0.000</td> <td> 1.21e+09</td> <td> 2.05e+09</td>\n",
       "</tr>\n",
       "</table>\n",
       "<table class=\"simpletable\">\n",
       "<tr>\n",
       "  <th>Ljung-Box (L1) (Q):</th>     <td>2.10</td>  <th>  Jarque-Bera (JB):  </th> <td>24.05</td>\n",
       "</tr>\n",
       "<tr>\n",
       "  <th>Prob(Q):</th>                <td>0.15</td>  <th>  Prob(JB):          </th> <td>0.00</td> \n",
       "</tr>\n",
       "<tr>\n",
       "  <th>Heteroskedasticity (H):</th> <td>19.28</td> <th>  Skew:              </th> <td>0.34</td> \n",
       "</tr>\n",
       "<tr>\n",
       "  <th>Prob(H) (two-sided):</th>    <td>0.00</td>  <th>  Kurtosis:          </th> <td>6.84</td> \n",
       "</tr>\n",
       "</table><br/><br/>Warnings:<br/>[1] Covariance matrix calculated using the outer product of gradients (complex-step)."
      ],
      "text/plain": [
       "<class 'statsmodels.iolib.summary.Summary'>\n",
       "\"\"\"\n",
       "                               SARIMAX Results                                \n",
       "==============================================================================\n",
       "Dep. Variable:                      y   No. Observations:                   39\n",
       "Model:               SARIMAX(0, 1, 0)   Log Likelihood                -457.441\n",
       "Date:                Sat, 23 Jul 2022   AIC                            916.882\n",
       "Time:                        16:22:48   BIC                            918.520\n",
       "Sample:                             0   HQIC                           917.465\n",
       "                                 - 39                                         \n",
       "Covariance Type:                  opg                                         \n",
       "==============================================================================\n",
       "                 coef    std err          z      P>|z|      [0.025      0.975]\n",
       "------------------------------------------------------------------------------\n",
       "sigma2       1.63e+09   2.12e+08      7.674      0.000    1.21e+09    2.05e+09\n",
       "===================================================================================\n",
       "Ljung-Box (L1) (Q):                   2.10   Jarque-Bera (JB):                24.05\n",
       "Prob(Q):                              0.15   Prob(JB):                         0.00\n",
       "Heteroskedasticity (H):              19.28   Skew:                             0.34\n",
       "Prob(H) (two-sided):                  0.00   Kurtosis:                         6.84\n",
       "===================================================================================\n",
       "\n",
       "Warnings:\n",
       "[1] Covariance matrix calculated using the outer product of gradients (complex-step).\n",
       "\"\"\""
      ]
     },
     "execution_count": 41,
     "metadata": {},
     "output_type": "execute_result"
    }
   ],
   "source": [
    "stepwize_fit = auto_arima(train['Actuals'], trace=True, suppress_warnings = True)\n",
    "\n",
    "stepwize_fit.summary()"
   ]
  },
  {
   "cell_type": "code",
   "execution_count": 45,
   "id": "f21cb240",
   "metadata": {},
   "outputs": [],
   "source": [
    "from statsmodels.tsa.arima.model import ARIMA"
   ]
  },
  {
   "cell_type": "code",
   "execution_count": 46,
   "id": "ec4f1ac9",
   "metadata": {},
   "outputs": [
    {
     "name": "stdout",
     "output_type": "stream",
     "text": [
      "(39, 1) (9, 1)\n"
     ]
    }
   ],
   "source": [
    "print(train.shape, test.shape)"
   ]
  },
  {
   "cell_type": "code",
   "execution_count": 59,
   "id": "6e07d0f6",
   "metadata": {},
   "outputs": [
    {
     "data": {
      "text/html": [
       "<table class=\"simpletable\">\n",
       "<caption>SARIMAX Results</caption>\n",
       "<tr>\n",
       "  <th>Dep. Variable:</th>        <td>Actuals</td>     <th>  No. Observations:  </th>    <td>39</td>   \n",
       "</tr>\n",
       "<tr>\n",
       "  <th>Model:</th>            <td>ARIMA(1, 1, 0)</td>  <th>  Log Likelihood     </th> <td>-456.637</td>\n",
       "</tr>\n",
       "<tr>\n",
       "  <th>Date:</th>            <td>Sat, 23 Jul 2022</td> <th>  AIC                </th>  <td>917.273</td>\n",
       "</tr>\n",
       "<tr>\n",
       "  <th>Time:</th>                <td>16:35:12</td>     <th>  BIC                </th>  <td>920.549</td>\n",
       "</tr>\n",
       "<tr>\n",
       "  <th>Sample:</th>                  <td>0</td>        <th>  HQIC               </th>  <td>918.439</td>\n",
       "</tr>\n",
       "<tr>\n",
       "  <th></th>                       <td> - 39</td>      <th>                     </th>     <td> </td>   \n",
       "</tr>\n",
       "<tr>\n",
       "  <th>Covariance Type:</th>        <td>opg</td>       <th>                     </th>     <td> </td>   \n",
       "</tr>\n",
       "</table>\n",
       "<table class=\"simpletable\">\n",
       "<tr>\n",
       "     <td></td>       <th>coef</th>     <th>std err</th>      <th>z</th>      <th>P>|z|</th>  <th>[0.025</th>    <th>0.975]</th>  \n",
       "</tr>\n",
       "<tr>\n",
       "  <th>ar.L1</th>  <td>   -0.1875</td> <td>    0.097</td> <td>   -1.928</td> <td> 0.054</td> <td>   -0.378</td> <td>    0.003</td>\n",
       "</tr>\n",
       "<tr>\n",
       "  <th>sigma2</th> <td> 1.635e+09</td> <td> 8.27e-12</td> <td> 1.98e+20</td> <td> 0.000</td> <td> 1.63e+09</td> <td> 1.63e+09</td>\n",
       "</tr>\n",
       "</table>\n",
       "<table class=\"simpletable\">\n",
       "<tr>\n",
       "  <th>Ljung-Box (L1) (Q):</th>     <td>0.34</td>  <th>  Jarque-Bera (JB):  </th> <td>31.93</td>\n",
       "</tr>\n",
       "<tr>\n",
       "  <th>Prob(Q):</th>                <td>0.56</td>  <th>  Prob(JB):          </th> <td>0.00</td> \n",
       "</tr>\n",
       "<tr>\n",
       "  <th>Heteroskedasticity (H):</th> <td>18.89</td> <th>  Skew:              </th> <td>1.04</td> \n",
       "</tr>\n",
       "<tr>\n",
       "  <th>Prob(H) (two-sided):</th>    <td>0.00</td>  <th>  Kurtosis:          </th> <td>6.97</td> \n",
       "</tr>\n",
       "</table><br/><br/>Warnings:<br/>[1] Covariance matrix calculated using the outer product of gradients (complex-step).<br/>[2] Covariance matrix is singular or near-singular, with condition number 2.12e+38. Standard errors may be unstable."
      ],
      "text/plain": [
       "<class 'statsmodels.iolib.summary.Summary'>\n",
       "\"\"\"\n",
       "                               SARIMAX Results                                \n",
       "==============================================================================\n",
       "Dep. Variable:                Actuals   No. Observations:                   39\n",
       "Model:                 ARIMA(1, 1, 0)   Log Likelihood                -456.637\n",
       "Date:                Sat, 23 Jul 2022   AIC                            917.273\n",
       "Time:                        16:35:12   BIC                            920.549\n",
       "Sample:                             0   HQIC                           918.439\n",
       "                                 - 39                                         \n",
       "Covariance Type:                  opg                                         \n",
       "==============================================================================\n",
       "                 coef    std err          z      P>|z|      [0.025      0.975]\n",
       "------------------------------------------------------------------------------\n",
       "ar.L1         -0.1875      0.097     -1.928      0.054      -0.378       0.003\n",
       "sigma2      1.635e+09   8.27e-12   1.98e+20      0.000    1.63e+09    1.63e+09\n",
       "===================================================================================\n",
       "Ljung-Box (L1) (Q):                   0.34   Jarque-Bera (JB):                31.93\n",
       "Prob(Q):                              0.56   Prob(JB):                         0.00\n",
       "Heteroskedasticity (H):              18.89   Skew:                             1.04\n",
       "Prob(H) (two-sided):                  0.00   Kurtosis:                         6.97\n",
       "===================================================================================\n",
       "\n",
       "Warnings:\n",
       "[1] Covariance matrix calculated using the outer product of gradients (complex-step).\n",
       "[2] Covariance matrix is singular or near-singular, with condition number 2.12e+38. Standard errors may be unstable.\n",
       "\"\"\""
      ]
     },
     "execution_count": 59,
     "metadata": {},
     "output_type": "execute_result"
    }
   ],
   "source": [
    "model = ARIMA(train['Actuals'], order=(1,1,0))\n",
    "model =  model.fit()\n",
    "model.summary()"
   ]
  },
  {
   "cell_type": "code",
   "execution_count": 61,
   "id": "f433e7ff",
   "metadata": {},
   "outputs": [
    {
     "name": "stdout",
     "output_type": "stream",
     "text": [
      "39    302404.528652\n",
      "40    304673.118436\n",
      "41    304247.826600\n",
      "42    304327.555931\n",
      "43    304312.609098\n",
      "44    304315.411176\n",
      "45    304314.885871\n",
      "46    304314.984350\n",
      "47    304314.965888\n",
      "Name: predicted_mean, dtype: float64\n"
     ]
    }
   ],
   "source": [
    "start = len(train)\n",
    "end=len(train)+len(test)-1\n",
    "pred=model.predict(start=start, end=end, type='levels')\n",
    "print(pred)\n",
    "pred.index=df.index[start:end+1]"
   ]
  },
  {
   "cell_type": "code",
   "execution_count": 65,
   "id": "dd624dde",
   "metadata": {},
   "outputs": [
    {
     "data": {
      "text/plain": [
       "<AxesSubplot:xlabel='Date'>"
      ]
     },
     "execution_count": 65,
     "metadata": {},
     "output_type": "execute_result"
    },
    {
     "data": {
      "image/png": "[encoded data removed]",
      "text/plain": [
       "<Figure size 432x288 with 1 Axes>"
      ]
     },
     "metadata": {
      "needs_background": "light"
     },
     "output_type": "display_data"
    }
   ],
   "source": [
    "pred.plot(legend=True)\n",
    "test['Actuals'].plot(legend=True)"
   ]
  },
  {
   "cell_type": "code",
   "execution_count": 66,
   "id": "63713231",
   "metadata": {},
   "outputs": [
    {
     "data": {
      "text/plain": [
       "413423.95666666667"
      ]
     },
     "execution_count": 66,
     "metadata": {},
     "output_type": "execute_result"
    }
   ],
   "source": [
    "test['Actuals'].mean()"
   ]
  },
  {
   "cell_type": "code",
   "execution_count": 67,
   "id": "3548e8ee",
   "metadata": {},
   "outputs": [
    {
     "name": "stdout",
     "output_type": "stream",
     "text": [
      "168498.14811784023\n"
     ]
    }
   ],
   "source": [
    "from sklearn.metrics import mean_squared_error\n",
    "from math import sqrt\n",
    "rmse=sqrt(mean_squared_error(pred,test['Actuals']))\n",
    "print(rmse)"
   ]
  },
  {
   "cell_type": "code",
   "execution_count": 70,
   "id": "01488876",
   "metadata": {},
   "outputs": [
    {
     "data": {
      "text/html": [
       "<div>\n",
       "<style scoped>\n",
       "    .dataframe tbody tr th:only-of-type {\n",
       "        vertical-align: middle;\n",
       "    }\n",
       "\n",
       "    .dataframe tbody tr th {\n",
       "        vertical-align: top;\n",
       "    }\n",
       "\n",
       "    .dataframe thead th {\n",
       "        text-align: right;\n",
       "    }\n",
       "</style>\n",
       "<table border=\"1\" class=\"dataframe\">\n",
       "  <thead>\n",
       "    <tr style=\"text-align: right;\">\n",
       "      <th></th>\n",
       "      <th>Actuals</th>\n",
       "    </tr>\n",
       "    <tr>\n",
       "      <th>Date</th>\n",
       "      <th></th>\n",
       "    </tr>\n",
       "  </thead>\n",
       "  <tbody>\n",
       "    <tr>\n",
       "      <th>01-02-2022</th>\n",
       "      <td>360875.89</td>\n",
       "    </tr>\n",
       "    <tr>\n",
       "      <th>01-03-2022</th>\n",
       "      <td>353478.85</td>\n",
       "    </tr>\n",
       "    <tr>\n",
       "      <th>01-04-2022</th>\n",
       "      <td>263880.15</td>\n",
       "    </tr>\n",
       "    <tr>\n",
       "      <th>01-05-2022</th>\n",
       "      <td>308093.45</td>\n",
       "    </tr>\n",
       "    <tr>\n",
       "      <th>01-06-2022</th>\n",
       "      <td>340617.30</td>\n",
       "    </tr>\n",
       "  </tbody>\n",
       "</table>\n",
       "</div>"
      ],
      "text/plain": [
       "              Actuals\n",
       "Date                 \n",
       "01-02-2022  360875.89\n",
       "01-03-2022  353478.85\n",
       "01-04-2022  263880.15\n",
       "01-05-2022  308093.45\n",
       "01-06-2022  340617.30"
      ]
     },
     "execution_count": 70,
     "metadata": {},
     "output_type": "execute_result"
    }
   ],
   "source": [
    "model2= ARIMA(df['Actuals'], order=(1,1,0))\n",
    "model2=model2.fit()\n",
    "df.tail()"
   ]
  },
  {
   "cell_type": "code",
   "execution_count": 71,
   "id": "92090b0b",
   "metadata": {},
   "outputs": [
    {
     "name": "stdout",
     "output_type": "stream",
     "text": [
      "DatetimeIndex(['2022-01-06', '2022-01-07', '2022-01-08', '2022-01-09'], dtype='datetime64[ns]', freq='D')\n"
     ]
    }
   ],
   "source": [
    "index_future_dates=pd.date_range(start='01-06-2022', end='01-09-2022')\n",
    "print(index_future_dates)"
   ]
  },
  {
   "cell_type": "code",
   "execution_count": 77,
   "id": "1f752b63",
   "metadata": {},
   "outputs": [],
   "source": [
    "pred=model2.predict(start=len(df), end=len(df)+3,type='levels').rename('ARIMA predictions')\n",
    "pred.index=index_future_dates"
   ]
  },
  {
   "cell_type": "code",
   "execution_count": 78,
   "id": "a06a2305",
   "metadata": {},
   "outputs": [
    {
     "name": "stdout",
     "output_type": "stream",
     "text": [
      "2022-01-06    332202.026644\n",
      "2022-01-07    334379.408032\n",
      "2022-01-08    333816.028863\n",
      "2022-01-09    333961.798497\n",
      "Freq: D, Name: ARIMA predictions, dtype: float64\n"
     ]
    }
   ],
   "source": [
    "print(pred)"
   ]
  },
  {
   "cell_type": "code",
   "execution_count": 79,
   "id": "7c6ea3ef",
   "metadata": {},
   "outputs": [
    {
     "data": {
      "text/plain": [
       "<AxesSubplot:>"
      ]
     },
     "execution_count": 79,
     "metadata": {},
     "output_type": "execute_result"
    },
    {
     "data": {
      "image/png": "[encoded data removed]",
      "text/plain": [
       "<Figure size 432x288 with 1 Axes>"
      ]
     },
     "metadata": {
      "needs_background": "light"
     },
     "output_type": "display_data"
    }
   ],
   "source": [
    "pred.plot()"
   ]
  },
  {
   "cell_type": "code",
   "execution_count": null,
   "id": "af92dc3f",
   "metadata": {},
   "outputs": [],
   "source": []
  }
 ],
 "metadata": {
  "kernelspec": {
   "display_name": "Python 3 (ipykernel)",
   "language": "python",
   "name": "python3"
  },
  "language_info": {
   "codemirror_mode": {
    "name": "ipython",
    "version": 3
   },
   "file_extension": ".py",
   "mimetype": "text/x-python",
   "name": "python",
   "nbconvert_exporter": "python",
   "pygments_lexer": "ipython3",
   "version": "3.8.13"
  }
 },
 "nbformat": 4,
 "nbformat_minor": 5
}
